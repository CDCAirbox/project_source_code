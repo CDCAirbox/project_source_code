{
 "cells": [
  {
   "cell_type": "markdown",
   "metadata": {},
   "source": [
    "# 連線用"
   ]
  },
  {
   "cell_type": "code",
   "execution_count": 3,
   "metadata": {},
   "outputs": [],
   "source": [
    "import pandas as pd\n",
    "import pymongo\n",
    "myclient = pymongo.MongoClient(\"localhost\",27017)\n",
    "mydb = myclient[\"CDC\"]\n",
    "namelist = mydb.list_collection_names()\n",
    "print(namelist)"
   ]
  },
  {
   "cell_type": "markdown",
   "metadata": {},
   "source": [
    "# 讀取檔案 改檔名就好"
   ]
  },
  {
   "cell_type": "code",
   "execution_count": 4,
   "metadata": {},
   "outputs": [],
   "source": [
    "room = pd.read_csv('input.csv')\n",
    "print(room)"
   ]
  },
  {
   "cell_type": "markdown",
   "metadata": {},
   "source": [
    "# 確認機器位置"
   ]
  },
  {
   "cell_type": "code",
   "execution_count": 5,
   "metadata": {},
   "outputs": [],
   "source": [
    "device = list(room['device'])\n",
    "print(device)\n",
    "\n",
    "where = list(room['where'])\n",
    "print(where)"
   ]
  },
  {
   "cell_type": "markdown",
   "metadata": {},
   "source": [
    "# 檢查機器位址，記得醫院地點要改"
   ]
  },
  {
   "cell_type": "code",
   "execution_count": 6,
   "metadata": {},
   "outputs": [],
   "source": [
    "temp = []\n",
    "\n",
    "loc = 'loc'\n",
    "for i in range(len(room)):\n",
    "    temp.append({'name':room.iloc[i]['where'],'id':room.iloc[i]['device'],'loc':loc,'status':'online'})\n",
    "\n",
    "print(temp)"
   ]
  },
  {
   "cell_type": "markdown",
   "metadata": {},
   "source": [
    "# 加進mongo"
   ]
  },
  {
   "cell_type": "code",
   "execution_count": 32,
   "metadata": {},
   "outputs": [],
   "source": [
    "for i in range(len(temp)):\n",
    "    mydb['device'].insert_one(temp[i])"
   ]
  },
  {
   "cell_type": "markdown",
   "metadata": {},
   "source": [
    "# 檢查db有無 改地址"
   ]
  },
  {
   "cell_type": "code",
   "execution_count": 7,
   "metadata": {},
   "outputs": [],
   "source": [
    "depart = mydb['device'].find({'loc':loc})\n",
    "for i in depart:\n",
    "    print(i)"
   ]
  },
  {
   "cell_type": "markdown",
   "metadata": {},
   "source": [
    "# 增加新醫院地點 lon lat token loc num name _id"
   ]
  },
  {
   "cell_type": "code",
   "execution_count": 8,
   "metadata": {},
   "outputs": [],
   "source": [
    "lon = 00.0000000\n",
    "lat = 00.0000000\n",
    "token = 'token'\n",
    "name = 'name'\n",
    "temp1 = ({\"_id\":\"020\",'loc':loc,'token':token,'num':17,'name':name,'lat':lat,'lon':lon})\n",
    "print(temp1)"
   ]
  },
  {
   "cell_type": "markdown",
   "metadata": {},
   "source": [
    "# 確認完成後再加db"
   ]
  },
  {
   "cell_type": "code",
   "execution_count": 9,
   "metadata": {},
   "outputs": [],
   "source": [
    "mydb['token'].insert_one(temp1)"
   ]
  },
  {
   "cell_type": "markdown",
   "metadata": {},
   "source": [
    "# 刪除用"
   ]
  },
  {
   "cell_type": "code",
   "execution_count": 10,
   "metadata": {},
   "outputs": [],
   "source": [
    "#mydb['token'].delete_one({'loc':'loc'})\n",
    "c = mydb['token'].find()\n",
    "for i in c:\n",
    "    print(i)"
   ]
  },
  {
   "cell_type": "code",
   "execution_count": 11,
   "metadata": {},
   "outputs": [],
   "source": [
    "data = mydb['device'].find({'loc':'loc'})\n",
    "for i in data:\n",
    "    print(i)"
   ]
  },
  {
   "cell_type": "markdown",
   "metadata": {},
   "source": [
    "# 更新單筆資料"
   ]
  },
  {
   "cell_type": "code",
   "execution_count": 12,
   "metadata": {},
   "outputs": [],
   "source": [
    "sub = mydb[\"subscribe\"].find()\n",
    "for i in sub:\n",
    "    print(i)"
   ]
  },
  {
   "cell_type": "code",
   "execution_count": 13,
   "metadata": {},
   "outputs": [],
   "source": [
    "query = {'_id':'016'}\n",
    "new = {'$set':{'name': 'name'}}\n",
    "mydb['token'].update_one(query,new)"
   ]
  },
  {
   "cell_type": "markdown",
   "metadata": {},
   "source": [
    "# 更新多筆資料"
   ]
  },
  {
   "cell_type": "code",
   "execution_count": null,
   "metadata": {},
   "outputs": [],
   "source": [
    "auth = ([d for d in mydb['device'].find()])\n",
    "for i in auth:\n",
    "    query = {'loc':'loc'}\n",
    "    new = {'$set':{'loc':'loc'}}\n",
    "    mydb['device'].update_one(query,new)"
   ]
  },
  {
   "cell_type": "markdown",
   "metadata": {},
   "source": [
    "# 更新db的上下線"
   ]
  },
  {
   "cell_type": "code",
   "execution_count": 192,
   "metadata": {},
   "outputs": [],
   "source": [
    "import requests\n",
    "import numpy as np\n",
    "from bs4 import BeautifulSoup as BS\n",
    "import pymongo\n",
    "myclient = pymongo.MongoClient(\"localhost\",27017)\n",
    "mydb = myclient[\"CDC\"]\n",
    "url = \"https://pm25.lass-net.org/IAQ/detail.php?city=iaq-cdc\"\n",
    "res = requests.get(url)\n",
    "data = BS(res.text,'html.parser')\n",
    "target = data.find_all('tr')\n",
    "for i in target:\n",
    "    a = i.find_all('td')\n",
    "    if len(a[1].text)>2:\n",
    "        id_ = a[2].text\n",
    "        status = i.find_all('img')[0].get('alt')\n",
    "#         print(id_,status)\n",
    "        myquery = {'id':id_}\n",
    "        newvalues = {'$set':{'status':status}}\n",
    "        mydb['device'].update_one(myquery,newvalues)\n",
    "'''\n",
    "MAPS\n",
    "'''\n",
    "url = 'https://pm25.lass-net.org/AirBox/detail.php?city=maps6-edu'\n",
    "r = requests.get(url)\n",
    "data = BS(r.text,'html.parser')\n",
    "target = data.find_all('tr')\n",
    "for j,i in enumerate(target):\n",
    "    a = i.find_all('td')\n",
    "    if a:\n",
    "        status = 'offline' if a[1].find_all('svg')[0].get('fill')=='#000000' else 'online'\n",
    "        id_ = a[2].text.replace('\\n','').replace(' ','')\n",
    "        if 'NTNU' in a[1].text:\n",
    "#             print(id_,status)\n",
    "            myquery = {'id':id_}\n",
    "            newvalues = {'$set':{'status':status}}\n",
    "            mydb['device'].update_one(myquery,newvalues)\n"
   ]
  }
 ],
 "metadata": {
  "kernelspec": {
   "display_name": "Python 3",
   "language": "python",
   "name": "python3"
  },
  "language_info": {
   "codemirror_mode": {
    "name": "ipython",
    "version": 3
   },
   "file_extension": ".py",
   "mimetype": "text/x-python",
   "name": "python",
   "nbconvert_exporter": "python",
   "pygments_lexer": "ipython3",
   "version": "3.8.3"
  }
 },
 "nbformat": 4,
 "nbformat_minor": 4
}
